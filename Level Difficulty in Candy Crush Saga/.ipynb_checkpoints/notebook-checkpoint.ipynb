{
 "cells": [
  {
   "cell_type": "markdown",
   "metadata": {
    "dc": {
     "key": "3"
    },
    "deletable": false,
    "editable": false,
    "run_control": {
     "frozen": true
    },
    "tags": [
     "context"
    ]
   },
   "source": [
    "## 1. Candy Crush Saga\n",
    "<p><a href=\"https://king.com/game/candycrush\">Candy Crush Saga</a> is a hit mobile game developed by King (part of Activision|Blizzard) that is played by millions of people all around the world. The game is structured as a series of levels where players need to match similar candy together to (hopefully) clear the level and keep progressing on the level map. If you are one of the few that haven't played Candy Crush, here's a short demo:</p>\n",
    "<p><a href=\"https://youtu.be/HGLGxnfs_t8\"><img src=\"https://assets.datacamp.com/production/project_139/img/candy_crush_video.jpeg\" alt=\"\"></a></p>\n",
    "<p>Candy Crush has more than 3000 levels, and new ones are added every week. That is a lot of levels! And with that many levels, it's important to get <em>level difficulty</em> just right. Too easy and the game gets boring, too hard and players become frustrated and quit playing.</p>\n",
    "<p>In this project, we will see how we can use data collected from players to estimate level difficulty. Let's start by loading in the packages we're going to need.</p>"
   ]
  },
  {
   "cell_type": "code",
   "execution_count": 2,
   "metadata": {
    "dc": {
     "key": "3"
    },
    "tags": [
     "sample_code"
    ]
   },
   "outputs": [
    {
     "name": "stderr",
     "output_type": "stream",
     "text": [
      "-- Attaching packages --------------------------------------- tidyverse 1.2.1 --\n",
      "v ggplot2 3.0.0     v purrr   0.2.5\n",
      "v tibble  1.4.2     v dplyr   0.7.6\n",
      "v tidyr   0.8.1     v stringr 1.3.1\n",
      "v readr   1.1.1     v forcats 0.3.0\n",
      "-- Conflicts ------------------------------------------ tidyverse_conflicts() --\n",
      "x dplyr::filter() masks stats::filter()\n",
      "x dplyr::lag()    masks stats::lag()\n"
     ]
    }
   ],
   "source": [
    "# This sets the size of plots to a good default.\n",
    "options(repr.plot.width = 5, repr.plot.height = 4)\n",
    "\n",
    "# Loading in packages\n",
    "library(tidyverse)"
   ]
  },
  {
   "cell_type": "markdown",
   "metadata": {
    "dc": {
     "key": "10"
    },
    "deletable": false,
    "editable": false,
    "run_control": {
     "frozen": true
    },
    "tags": [
     "context"
    ]
   },
   "source": [
    "## 2. The data set\n",
    "<p>The dataset we will use contains one week of data from a sample of players who played Candy Crush back in 2014. The data is also from a single <em>episode</em>, that is, a set of 15 levels. It has the following columns:</p>\n",
    "<ul>\n",
    "<li><strong>player_id</strong>: a unique player id</li>\n",
    "<li><strong>dt</strong>: the date</li>\n",
    "<li><strong>level</strong>: the level number within the episode, from 1 to 15.</li>\n",
    "<li><strong>num_attempts</strong>: number of level attempts for the player on that level and date.</li>\n",
    "<li><strong>num_success</strong>: number of level attempts that resulted in a success/win for the player on that level and date.</li>\n",
    "</ul>\n",
    "<p>The granularity of the dataset is player, date, and level. That is, there is a row for every player, day, and level recording the total number of attempts and how many of those resulted in a win.</p>\n",
    "<p>Now, let's load in the dataset and take a look at the first couple of rows. </p>"
   ]
  },
  {
   "cell_type": "code",
   "execution_count": 3,
   "metadata": {
    "dc": {
     "key": "10"
    },
    "tags": [
     "sample_code"
    ]
   },
   "outputs": [
    {
     "name": "stderr",
     "output_type": "stream",
     "text": [
      "Parsed with column specification:\n",
      "cols(\n",
      "  player_id = col_character(),\n",
      "  dt = col_date(format = \"\"),\n",
      "  level = col_integer(),\n",
      "  num_attempts = col_integer(),\n",
      "  num_success = col_integer()\n",
      ")\n"
     ]
    },
    {
     "data": {
      "text/html": [
       "<table>\n",
       "<thead><tr><th scope=col>player_id</th><th scope=col>dt</th><th scope=col>level</th><th scope=col>num_attempts</th><th scope=col>num_success</th></tr></thead>\n",
       "<tbody>\n",
       "\t<tr><td>6dd5af4c7228fa353d505767143f5815</td><td>2014-01-04                      </td><td> 4                              </td><td>3                               </td><td>1                               </td></tr>\n",
       "\t<tr><td>c7ec97c39349ab7e4d39b4f74062ec13</td><td>2014-01-01                      </td><td> 8                              </td><td>4                               </td><td>1                               </td></tr>\n",
       "\t<tr><td>c7ec97c39349ab7e4d39b4f74062ec13</td><td>2014-01-05                      </td><td>12                              </td><td>6                               </td><td>0                               </td></tr>\n",
       "\t<tr><td>a32c5e9700ed356dc8dd5bb3230c5227</td><td>2014-01-03                      </td><td>11                              </td><td>1                               </td><td>1                               </td></tr>\n",
       "\t<tr><td>a32c5e9700ed356dc8dd5bb3230c5227</td><td>2014-01-07                      </td><td>15                              </td><td>6                               </td><td>0                               </td></tr>\n",
       "\t<tr><td>b94d403ac4edf639442f93eeffdc7d92</td><td>2014-01-01                      </td><td> 8                              </td><td>8                               </td><td>1                               </td></tr>\n",
       "</tbody>\n",
       "</table>\n"
      ],
      "text/latex": [
       "\\begin{tabular}{r|lllll}\n",
       " player\\_id & dt & level & num\\_attempts & num\\_success\\\\\n",
       "\\hline\n",
       "\t 6dd5af4c7228fa353d505767143f5815 & 2014-01-04                       &  4                               & 3                                & 1                               \\\\\n",
       "\t c7ec97c39349ab7e4d39b4f74062ec13 & 2014-01-01                       &  8                               & 4                                & 1                               \\\\\n",
       "\t c7ec97c39349ab7e4d39b4f74062ec13 & 2014-01-05                       & 12                               & 6                                & 0                               \\\\\n",
       "\t a32c5e9700ed356dc8dd5bb3230c5227 & 2014-01-03                       & 11                               & 1                                & 1                               \\\\\n",
       "\t a32c5e9700ed356dc8dd5bb3230c5227 & 2014-01-07                       & 15                               & 6                                & 0                               \\\\\n",
       "\t b94d403ac4edf639442f93eeffdc7d92 & 2014-01-01                       &  8                               & 8                                & 1                               \\\\\n",
       "\\end{tabular}\n"
      ],
      "text/markdown": [
       "\n",
       "player_id | dt | level | num_attempts | num_success | \n",
       "|---|---|---|---|---|---|\n",
       "| 6dd5af4c7228fa353d505767143f5815 | 2014-01-04                       |  4                               | 3                                | 1                                | \n",
       "| c7ec97c39349ab7e4d39b4f74062ec13 | 2014-01-01                       |  8                               | 4                                | 1                                | \n",
       "| c7ec97c39349ab7e4d39b4f74062ec13 | 2014-01-05                       | 12                               | 6                                | 0                                | \n",
       "| a32c5e9700ed356dc8dd5bb3230c5227 | 2014-01-03                       | 11                               | 1                                | 1                                | \n",
       "| a32c5e9700ed356dc8dd5bb3230c5227 | 2014-01-07                       | 15                               | 6                                | 0                                | \n",
       "| b94d403ac4edf639442f93eeffdc7d92 | 2014-01-01                       |  8                               | 8                                | 1                                | \n",
       "\n",
       "\n"
      ],
      "text/plain": [
       "  player_id                        dt         level num_attempts num_success\n",
       "1 6dd5af4c7228fa353d505767143f5815 2014-01-04  4    3            1          \n",
       "2 c7ec97c39349ab7e4d39b4f74062ec13 2014-01-01  8    4            1          \n",
       "3 c7ec97c39349ab7e4d39b4f74062ec13 2014-01-05 12    6            0          \n",
       "4 a32c5e9700ed356dc8dd5bb3230c5227 2014-01-03 11    1            1          \n",
       "5 a32c5e9700ed356dc8dd5bb3230c5227 2014-01-07 15    6            0          \n",
       "6 b94d403ac4edf639442f93eeffdc7d92 2014-01-01  8    8            1          "
      ]
     },
     "metadata": {},
     "output_type": "display_data"
    }
   ],
   "source": [
    "# Reading in the data\n",
    "data <- read_csv(\"datasets/candy_crush.csv\")\n",
    "\n",
    "# Printing out the first couple of rows\n",
    "head(data)"
   ]
  },
  {
   "cell_type": "markdown",
   "metadata": {
    "dc": {
     "key": "17"
    },
    "deletable": false,
    "editable": false,
    "run_control": {
     "frozen": true
    },
    "tags": [
     "context"
    ]
   },
   "source": [
    "## 3. Checking the data set\n",
    "<p>Now that we have loaded the dataset let's count how many players we have in the sample and how many days worth of data we have.</p>"
   ]
  },
  {
   "cell_type": "code",
   "execution_count": 4,
   "metadata": {
    "dc": {
     "key": "17"
    },
    "tags": [
     "sample_code"
    ]
   },
   "outputs": [
    {
     "name": "stdout",
     "output_type": "stream",
     "text": [
      "[1] \"Number of players:\"\n"
     ]
    },
    {
     "data": {
      "text/html": [
       "<table>\n",
       "<thead><tr><th scope=col>player_id</th><th scope=col>dt</th><th scope=col>level</th><th scope=col>num_attempts</th><th scope=col>num_success</th></tr></thead>\n",
       "<tbody>\n",
       "\t<tr><td>6dd5af4c7228fa353d505767143f5815</td><td>2014-01-04                      </td><td> 4                              </td><td> 3                              </td><td>1                               </td></tr>\n",
       "\t<tr><td>c7ec97c39349ab7e4d39b4f74062ec13</td><td>2014-01-01                      </td><td> 8                              </td><td> 4                              </td><td>1                               </td></tr>\n",
       "\t<tr><td>c7ec97c39349ab7e4d39b4f74062ec13</td><td>2014-01-05                      </td><td>12                              </td><td> 6                              </td><td>0                               </td></tr>\n",
       "\t<tr><td>a32c5e9700ed356dc8dd5bb3230c5227</td><td>2014-01-03                      </td><td>11                              </td><td> 1                              </td><td>1                               </td></tr>\n",
       "\t<tr><td>a32c5e9700ed356dc8dd5bb3230c5227</td><td>2014-01-07                      </td><td>15                              </td><td> 6                              </td><td>0                               </td></tr>\n",
       "\t<tr><td>b94d403ac4edf639442f93eeffdc7d92</td><td>2014-01-01                      </td><td> 8                              </td><td> 8                              </td><td>1                               </td></tr>\n",
       "\t<tr><td>b94d403ac4edf639442f93eeffdc7d92</td><td>2014-01-05                      </td><td>12                              </td><td>15                              </td><td>1                               </td></tr>\n",
       "\t<tr><td>ff508e34a5d0157ea5e42f2ff9982660</td><td>2014-01-04                      </td><td>12                              </td><td>18                              </td><td>0                               </td></tr>\n",
       "\t<tr><td>83ee6c90911dcde3cac189f690310920</td><td>2014-01-04                      </td><td> 4                              </td><td> 1                              </td><td>1                               </td></tr>\n",
       "\t<tr><td>bef3afe9467a0a4b496a8b72a0840829</td><td>2014-01-07                      </td><td>15                              </td><td>27                              </td><td>0                               </td></tr>\n",
       "\t<tr><td>bab865e734918e4d680b1be518b9c148</td><td>2014-01-07                      </td><td>15                              </td><td>15                              </td><td>0                               </td></tr>\n",
       "\t<tr><td>4194741637f27d22b78106cf484a7641</td><td>2014-01-01                      </td><td> 8                              </td><td> 8                              </td><td>0                               </td></tr>\n",
       "\t<tr><td>701a1c2abd63b53e24782ef52e59e9e4</td><td>2014-01-07                      </td><td>15                              </td><td> 3                              </td><td>0                               </td></tr>\n",
       "\t<tr><td>cdac1665b7a725f6850682a652e4af34</td><td>2014-01-07                      </td><td>15                              </td><td>17                              </td><td>0                               </td></tr>\n",
       "\t<tr><td>244ee3e1d8274ab03378223eb4831aa6</td><td>2014-01-07                      </td><td>15                              </td><td> 5                              </td><td>0                               </td></tr>\n",
       "\t<tr><td>12c0cf02c3a48095b420583fb203ba94</td><td>2014-01-07                      </td><td>15                              </td><td> 1                              </td><td>0                               </td></tr>\n",
       "\t<tr><td>8d7731a49b66b4c2b76103628f9af49b</td><td>2014-01-07                      </td><td>15                              </td><td> 5                              </td><td>0                               </td></tr>\n",
       "\t<tr><td>0822ff21d064d90558fa6e9872eb77d5</td><td>2014-01-02                      </td><td> 9                              </td><td>15                              </td><td>0                               </td></tr>\n",
       "\t<tr><td>a2eb28780561c3e4414efe886fc75888</td><td>2014-01-01                      </td><td> 8                              </td><td> 1                              </td><td>1                               </td></tr>\n",
       "\t<tr><td>ee7b7171ee4801f52b708ea090bf792b</td><td>2014-01-02                      </td><td> 9                              </td><td> 2                              </td><td>1                               </td></tr>\n",
       "\t<tr><td>5ddf44f41974acf2c8cd9bbcdb10bc40</td><td>2014-01-02                      </td><td>10                              </td><td> 5                              </td><td>1                               </td></tr>\n",
       "\t<tr><td>0b3155819caf2a961f093080ad35b1c7</td><td>2014-01-05                      </td><td>12                              </td><td> 8                              </td><td>0                               </td></tr>\n",
       "\t<tr><td>abd0f49d4c78c41a5e66dad7f6ceffd2</td><td>2014-01-04                      </td><td> 4                              </td><td> 1                              </td><td>1                               </td></tr>\n",
       "\t<tr><td>e60ef6f316a4e2ac1d5d80957aa2e65e</td><td>2014-01-04                      </td><td>11                              </td><td> 1                              </td><td>1                               </td></tr>\n",
       "\t<tr><td>fff357d9e487d745b3cdcd8842c55f12</td><td>2014-01-07                      </td><td>15                              </td><td> 5                              </td><td>0                               </td></tr>\n",
       "\t<tr><td>211a8e2e49f2c639f989e271dc503af1</td><td>2014-01-07                      </td><td>15                              </td><td>13                              </td><td>0                               </td></tr>\n",
       "\t<tr><td>793f01d46cf8e0a9c25ac195b58b6ab9</td><td>2014-01-03                      </td><td>10                              </td><td> 4                              </td><td>1                               </td></tr>\n",
       "\t<tr><td>1970080561955b17cac235ba902cde37</td><td>2014-01-03                      </td><td>10                              </td><td> 2                              </td><td>1                               </td></tr>\n",
       "\t<tr><td>1970080561955b17cac235ba902cde37</td><td>2014-01-07                      </td><td>14                              </td><td> 7                              </td><td>1                               </td></tr>\n",
       "\t<tr><td>7b59437037dd768bcc5c4e6f64464c61</td><td>2014-01-05                      </td><td> 5                              </td><td> 4                              </td><td>1                               </td></tr>\n",
       "\t<tr><td>...</td><td>...</td><td>...</td><td>...</td><td>...</td></tr>\n",
       "\t<tr><td>8ec95f673d4422a83a09d08c4bdc8cd3</td><td>2014-01-05                      </td><td>13                              </td><td> 4                              </td><td>1                               </td></tr>\n",
       "\t<tr><td>93bb7d98554b61dc14d57babd73f05c9</td><td>2014-01-02                      </td><td> 1                              </td><td> 1                              </td><td>1                               </td></tr>\n",
       "\t<tr><td>6de37d7b40c9b3863ed3be001946b500</td><td>2014-01-04                      </td><td> 4                              </td><td> 1                              </td><td>1                               </td></tr>\n",
       "\t<tr><td>29abffe0da911d11382bc4319e1a27d1</td><td>2014-01-04                      </td><td>12                              </td><td> 9                              </td><td>1                               </td></tr>\n",
       "\t<tr><td>c92f049d9876b18e589258877cb5a160</td><td>2014-01-03                      </td><td>10                              </td><td> 2                              </td><td>0                               </td></tr>\n",
       "\t<tr><td>e441daa8c280af6ce3ecae9f1286cf31</td><td>2014-01-03                      </td><td> 2                              </td><td> 2                              </td><td>1                               </td></tr>\n",
       "\t<tr><td>3815b1ef8ca0874750ae7ecb56b53891</td><td>2014-01-07                      </td><td>14                              </td><td> 1                              </td><td>1                               </td></tr>\n",
       "\t<tr><td>b2b95ac1a2d5c95574650efd985ed31c</td><td>2014-01-07                      </td><td>15                              </td><td> 7                              </td><td>1                               </td></tr>\n",
       "\t<tr><td>bed2510fc2f3b23f65e4b07d426fac4a</td><td>2014-01-05                      </td><td> 5                              </td><td> 1                              </td><td>1                               </td></tr>\n",
       "\t<tr><td>5883edc0f766b8e8788a2813d71d491c</td><td>2014-01-07                      </td><td> 7                              </td><td> 7                              </td><td>1                               </td></tr>\n",
       "\t<tr><td>1889352d41a6be6c1715793623719cd5</td><td>2014-01-04                      </td><td>12                              </td><td>12                              </td><td>0                               </td></tr>\n",
       "\t<tr><td>8e583d18b3f5c662e2d0441dbe39359a</td><td>2014-01-05                      </td><td> 4                              </td><td> 1                              </td><td>1                               </td></tr>\n",
       "\t<tr><td>d24d961e1c9aedf06dcb06261bb35e12</td><td>2014-01-01                      </td><td> 8                              </td><td>33                              </td><td>0                               </td></tr>\n",
       "\t<tr><td>d24d961e1c9aedf06dcb06261bb35e12</td><td>2014-01-05                      </td><td>12                              </td><td>12                              </td><td>1                               </td></tr>\n",
       "\t<tr><td>e145cdeb49f9d5a448c7e005157eab67</td><td>2014-01-04                      </td><td> 3                              </td><td> 1                              </td><td>1                               </td></tr>\n",
       "\t<tr><td>d56db0e968763255a440b075238008e4</td><td>2014-01-05                      </td><td>12                              </td><td> 3                              </td><td>0                               </td></tr>\n",
       "\t<tr><td>0cc948608edc2d8b5c37bed486e94f22</td><td>2014-01-01                      </td><td> 8                              </td><td> 3                              </td><td>0                               </td></tr>\n",
       "\t<tr><td>0cc948608edc2d8b5c37bed486e94f22</td><td>2014-01-05                      </td><td>12                              </td><td> 4                              </td><td>0                               </td></tr>\n",
       "\t<tr><td>389928c770311ceaa26e5de2436d5a57</td><td>2014-01-02                      </td><td> 2                              </td><td> 1                              </td><td>1                               </td></tr>\n",
       "\t<tr><td>59aebcabdb904fe53f84cf47441aee5e</td><td>2014-01-05                      </td><td> 4                              </td><td> 5                              </td><td>1                               </td></tr>\n",
       "\t<tr><td>7ab9b7cffb3ae1e6625a45ed60c409e5</td><td>2014-01-05                      </td><td>12                              </td><td> 3                              </td><td>0                               </td></tr>\n",
       "\t<tr><td>d40febe8b0c0e9a98b90d66cfff97150</td><td>2014-01-07                      </td><td>14                              </td><td> 4                              </td><td>1                               </td></tr>\n",
       "\t<tr><td>ee51e02d0ccf314c29fc3479bb290b74</td><td>2014-01-03                      </td><td>11                              </td><td> 2                              </td><td>1                               </td></tr>\n",
       "\t<tr><td>bd7fc0c2cc8a22f63d7262bbaa68a50e</td><td>2014-01-06                      </td><td> 5                              </td><td> 3                              </td><td>0                               </td></tr>\n",
       "\t<tr><td>0098ec5725cc2eba7ffb58ca0c77e914</td><td>2014-01-06                      </td><td> 5                              </td><td> 3                              </td><td>1                               </td></tr>\n",
       "\t<tr><td>e3e95924b152d5d2b0fcf0cc2b8a4261</td><td>2014-01-07                      </td><td>15                              </td><td> 1                              </td><td>1                               </td></tr>\n",
       "\t<tr><td>712d953e972844194475f21b9352c1ab</td><td>2014-01-01                      </td><td> 8                              </td><td> 2                              </td><td>0                               </td></tr>\n",
       "\t<tr><td>7fad6b6c0d8c8a5ef69f467511b5262c</td><td>2014-01-01                      </td><td> 9                              </td><td>10                              </td><td>1                               </td></tr>\n",
       "\t<tr><td>323676bf93f40dda0a96cba8c73c1478</td><td>2014-01-06                      </td><td>14                              </td><td> 1                              </td><td>1                               </td></tr>\n",
       "\t<tr><td>cda5e442e086f0b9f8d19b18177e4099</td><td>2014-01-01                      </td><td> 1                              </td><td> 1                              </td><td>1                               </td></tr>\n",
       "</tbody>\n",
       "</table>\n"
      ],
      "text/latex": [
       "\\begin{tabular}{r|lllll}\n",
       " player\\_id & dt & level & num\\_attempts & num\\_success\\\\\n",
       "\\hline\n",
       "\t 6dd5af4c7228fa353d505767143f5815 & 2014-01-04                       &  4                               &  3                               & 1                               \\\\\n",
       "\t c7ec97c39349ab7e4d39b4f74062ec13 & 2014-01-01                       &  8                               &  4                               & 1                               \\\\\n",
       "\t c7ec97c39349ab7e4d39b4f74062ec13 & 2014-01-05                       & 12                               &  6                               & 0                               \\\\\n",
       "\t a32c5e9700ed356dc8dd5bb3230c5227 & 2014-01-03                       & 11                               &  1                               & 1                               \\\\\n",
       "\t a32c5e9700ed356dc8dd5bb3230c5227 & 2014-01-07                       & 15                               &  6                               & 0                               \\\\\n",
       "\t b94d403ac4edf639442f93eeffdc7d92 & 2014-01-01                       &  8                               &  8                               & 1                               \\\\\n",
       "\t b94d403ac4edf639442f93eeffdc7d92 & 2014-01-05                       & 12                               & 15                               & 1                               \\\\\n",
       "\t ff508e34a5d0157ea5e42f2ff9982660 & 2014-01-04                       & 12                               & 18                               & 0                               \\\\\n",
       "\t 83ee6c90911dcde3cac189f690310920 & 2014-01-04                       &  4                               &  1                               & 1                               \\\\\n",
       "\t bef3afe9467a0a4b496a8b72a0840829 & 2014-01-07                       & 15                               & 27                               & 0                               \\\\\n",
       "\t bab865e734918e4d680b1be518b9c148 & 2014-01-07                       & 15                               & 15                               & 0                               \\\\\n",
       "\t 4194741637f27d22b78106cf484a7641 & 2014-01-01                       &  8                               &  8                               & 0                               \\\\\n",
       "\t 701a1c2abd63b53e24782ef52e59e9e4 & 2014-01-07                       & 15                               &  3                               & 0                               \\\\\n",
       "\t cdac1665b7a725f6850682a652e4af34 & 2014-01-07                       & 15                               & 17                               & 0                               \\\\\n",
       "\t 244ee3e1d8274ab03378223eb4831aa6 & 2014-01-07                       & 15                               &  5                               & 0                               \\\\\n",
       "\t 12c0cf02c3a48095b420583fb203ba94 & 2014-01-07                       & 15                               &  1                               & 0                               \\\\\n",
       "\t 8d7731a49b66b4c2b76103628f9af49b & 2014-01-07                       & 15                               &  5                               & 0                               \\\\\n",
       "\t 0822ff21d064d90558fa6e9872eb77d5 & 2014-01-02                       &  9                               & 15                               & 0                               \\\\\n",
       "\t a2eb28780561c3e4414efe886fc75888 & 2014-01-01                       &  8                               &  1                               & 1                               \\\\\n",
       "\t ee7b7171ee4801f52b708ea090bf792b & 2014-01-02                       &  9                               &  2                               & 1                               \\\\\n",
       "\t 5ddf44f41974acf2c8cd9bbcdb10bc40 & 2014-01-02                       & 10                               &  5                               & 1                               \\\\\n",
       "\t 0b3155819caf2a961f093080ad35b1c7 & 2014-01-05                       & 12                               &  8                               & 0                               \\\\\n",
       "\t abd0f49d4c78c41a5e66dad7f6ceffd2 & 2014-01-04                       &  4                               &  1                               & 1                               \\\\\n",
       "\t e60ef6f316a4e2ac1d5d80957aa2e65e & 2014-01-04                       & 11                               &  1                               & 1                               \\\\\n",
       "\t fff357d9e487d745b3cdcd8842c55f12 & 2014-01-07                       & 15                               &  5                               & 0                               \\\\\n",
       "\t 211a8e2e49f2c639f989e271dc503af1 & 2014-01-07                       & 15                               & 13                               & 0                               \\\\\n",
       "\t 793f01d46cf8e0a9c25ac195b58b6ab9 & 2014-01-03                       & 10                               &  4                               & 1                               \\\\\n",
       "\t 1970080561955b17cac235ba902cde37 & 2014-01-03                       & 10                               &  2                               & 1                               \\\\\n",
       "\t 1970080561955b17cac235ba902cde37 & 2014-01-07                       & 14                               &  7                               & 1                               \\\\\n",
       "\t 7b59437037dd768bcc5c4e6f64464c61 & 2014-01-05                       &  5                               &  4                               & 1                               \\\\\n",
       "\t ... & ... & ... & ... & ...\\\\\n",
       "\t 8ec95f673d4422a83a09d08c4bdc8cd3 & 2014-01-05                       & 13                               &  4                               & 1                               \\\\\n",
       "\t 93bb7d98554b61dc14d57babd73f05c9 & 2014-01-02                       &  1                               &  1                               & 1                               \\\\\n",
       "\t 6de37d7b40c9b3863ed3be001946b500 & 2014-01-04                       &  4                               &  1                               & 1                               \\\\\n",
       "\t 29abffe0da911d11382bc4319e1a27d1 & 2014-01-04                       & 12                               &  9                               & 1                               \\\\\n",
       "\t c92f049d9876b18e589258877cb5a160 & 2014-01-03                       & 10                               &  2                               & 0                               \\\\\n",
       "\t e441daa8c280af6ce3ecae9f1286cf31 & 2014-01-03                       &  2                               &  2                               & 1                               \\\\\n",
       "\t 3815b1ef8ca0874750ae7ecb56b53891 & 2014-01-07                       & 14                               &  1                               & 1                               \\\\\n",
       "\t b2b95ac1a2d5c95574650efd985ed31c & 2014-01-07                       & 15                               &  7                               & 1                               \\\\\n",
       "\t bed2510fc2f3b23f65e4b07d426fac4a & 2014-01-05                       &  5                               &  1                               & 1                               \\\\\n",
       "\t 5883edc0f766b8e8788a2813d71d491c & 2014-01-07                       &  7                               &  7                               & 1                               \\\\\n",
       "\t 1889352d41a6be6c1715793623719cd5 & 2014-01-04                       & 12                               & 12                               & 0                               \\\\\n",
       "\t 8e583d18b3f5c662e2d0441dbe39359a & 2014-01-05                       &  4                               &  1                               & 1                               \\\\\n",
       "\t d24d961e1c9aedf06dcb06261bb35e12 & 2014-01-01                       &  8                               & 33                               & 0                               \\\\\n",
       "\t d24d961e1c9aedf06dcb06261bb35e12 & 2014-01-05                       & 12                               & 12                               & 1                               \\\\\n",
       "\t e145cdeb49f9d5a448c7e005157eab67 & 2014-01-04                       &  3                               &  1                               & 1                               \\\\\n",
       "\t d56db0e968763255a440b075238008e4 & 2014-01-05                       & 12                               &  3                               & 0                               \\\\\n",
       "\t 0cc948608edc2d8b5c37bed486e94f22 & 2014-01-01                       &  8                               &  3                               & 0                               \\\\\n",
       "\t 0cc948608edc2d8b5c37bed486e94f22 & 2014-01-05                       & 12                               &  4                               & 0                               \\\\\n",
       "\t 389928c770311ceaa26e5de2436d5a57 & 2014-01-02                       &  2                               &  1                               & 1                               \\\\\n",
       "\t 59aebcabdb904fe53f84cf47441aee5e & 2014-01-05                       &  4                               &  5                               & 1                               \\\\\n",
       "\t 7ab9b7cffb3ae1e6625a45ed60c409e5 & 2014-01-05                       & 12                               &  3                               & 0                               \\\\\n",
       "\t d40febe8b0c0e9a98b90d66cfff97150 & 2014-01-07                       & 14                               &  4                               & 1                               \\\\\n",
       "\t ee51e02d0ccf314c29fc3479bb290b74 & 2014-01-03                       & 11                               &  2                               & 1                               \\\\\n",
       "\t bd7fc0c2cc8a22f63d7262bbaa68a50e & 2014-01-06                       &  5                               &  3                               & 0                               \\\\\n",
       "\t 0098ec5725cc2eba7ffb58ca0c77e914 & 2014-01-06                       &  5                               &  3                               & 1                               \\\\\n",
       "\t e3e95924b152d5d2b0fcf0cc2b8a4261 & 2014-01-07                       & 15                               &  1                               & 1                               \\\\\n",
       "\t 712d953e972844194475f21b9352c1ab & 2014-01-01                       &  8                               &  2                               & 0                               \\\\\n",
       "\t 7fad6b6c0d8c8a5ef69f467511b5262c & 2014-01-01                       &  9                               & 10                               & 1                               \\\\\n",
       "\t 323676bf93f40dda0a96cba8c73c1478 & 2014-01-06                       & 14                               &  1                               & 1                               \\\\\n",
       "\t cda5e442e086f0b9f8d19b18177e4099 & 2014-01-01                       &  1                               &  1                               & 1                               \\\\\n",
       "\\end{tabular}\n"
      ],
      "text/markdown": [
       "\n",
       "player_id | dt | level | num_attempts | num_success | \n",
       "|---|---|---|---|---|---|---|---|---|---|---|---|---|---|---|---|---|---|---|---|---|---|---|---|---|---|---|---|---|---|---|---|---|---|---|---|---|---|---|---|---|---|---|---|---|---|---|---|---|---|---|---|---|---|---|---|---|---|---|---|---|\n",
       "| 6dd5af4c7228fa353d505767143f5815 | 2014-01-04                       |  4                               |  3                               | 1                                | \n",
       "| c7ec97c39349ab7e4d39b4f74062ec13 | 2014-01-01                       |  8                               |  4                               | 1                                | \n",
       "| c7ec97c39349ab7e4d39b4f74062ec13 | 2014-01-05                       | 12                               |  6                               | 0                                | \n",
       "| a32c5e9700ed356dc8dd5bb3230c5227 | 2014-01-03                       | 11                               |  1                               | 1                                | \n",
       "| a32c5e9700ed356dc8dd5bb3230c5227 | 2014-01-07                       | 15                               |  6                               | 0                                | \n",
       "| b94d403ac4edf639442f93eeffdc7d92 | 2014-01-01                       |  8                               |  8                               | 1                                | \n",
       "| b94d403ac4edf639442f93eeffdc7d92 | 2014-01-05                       | 12                               | 15                               | 1                                | \n",
       "| ff508e34a5d0157ea5e42f2ff9982660 | 2014-01-04                       | 12                               | 18                               | 0                                | \n",
       "| 83ee6c90911dcde3cac189f690310920 | 2014-01-04                       |  4                               |  1                               | 1                                | \n",
       "| bef3afe9467a0a4b496a8b72a0840829 | 2014-01-07                       | 15                               | 27                               | 0                                | \n",
       "| bab865e734918e4d680b1be518b9c148 | 2014-01-07                       | 15                               | 15                               | 0                                | \n",
       "| 4194741637f27d22b78106cf484a7641 | 2014-01-01                       |  8                               |  8                               | 0                                | \n",
       "| 701a1c2abd63b53e24782ef52e59e9e4 | 2014-01-07                       | 15                               |  3                               | 0                                | \n",
       "| cdac1665b7a725f6850682a652e4af34 | 2014-01-07                       | 15                               | 17                               | 0                                | \n",
       "| 244ee3e1d8274ab03378223eb4831aa6 | 2014-01-07                       | 15                               |  5                               | 0                                | \n",
       "| 12c0cf02c3a48095b420583fb203ba94 | 2014-01-07                       | 15                               |  1                               | 0                                | \n",
       "| 8d7731a49b66b4c2b76103628f9af49b | 2014-01-07                       | 15                               |  5                               | 0                                | \n",
       "| 0822ff21d064d90558fa6e9872eb77d5 | 2014-01-02                       |  9                               | 15                               | 0                                | \n",
       "| a2eb28780561c3e4414efe886fc75888 | 2014-01-01                       |  8                               |  1                               | 1                                | \n",
       "| ee7b7171ee4801f52b708ea090bf792b | 2014-01-02                       |  9                               |  2                               | 1                                | \n",
       "| 5ddf44f41974acf2c8cd9bbcdb10bc40 | 2014-01-02                       | 10                               |  5                               | 1                                | \n",
       "| 0b3155819caf2a961f093080ad35b1c7 | 2014-01-05                       | 12                               |  8                               | 0                                | \n",
       "| abd0f49d4c78c41a5e66dad7f6ceffd2 | 2014-01-04                       |  4                               |  1                               | 1                                | \n",
       "| e60ef6f316a4e2ac1d5d80957aa2e65e | 2014-01-04                       | 11                               |  1                               | 1                                | \n",
       "| fff357d9e487d745b3cdcd8842c55f12 | 2014-01-07                       | 15                               |  5                               | 0                                | \n",
       "| 211a8e2e49f2c639f989e271dc503af1 | 2014-01-07                       | 15                               | 13                               | 0                                | \n",
       "| 793f01d46cf8e0a9c25ac195b58b6ab9 | 2014-01-03                       | 10                               |  4                               | 1                                | \n",
       "| 1970080561955b17cac235ba902cde37 | 2014-01-03                       | 10                               |  2                               | 1                                | \n",
       "| 1970080561955b17cac235ba902cde37 | 2014-01-07                       | 14                               |  7                               | 1                                | \n",
       "| 7b59437037dd768bcc5c4e6f64464c61 | 2014-01-05                       |  5                               |  4                               | 1                                | \n",
       "| ... | ... | ... | ... | ... | \n",
       "| 8ec95f673d4422a83a09d08c4bdc8cd3 | 2014-01-05                       | 13                               |  4                               | 1                                | \n",
       "| 93bb7d98554b61dc14d57babd73f05c9 | 2014-01-02                       |  1                               |  1                               | 1                                | \n",
       "| 6de37d7b40c9b3863ed3be001946b500 | 2014-01-04                       |  4                               |  1                               | 1                                | \n",
       "| 29abffe0da911d11382bc4319e1a27d1 | 2014-01-04                       | 12                               |  9                               | 1                                | \n",
       "| c92f049d9876b18e589258877cb5a160 | 2014-01-03                       | 10                               |  2                               | 0                                | \n",
       "| e441daa8c280af6ce3ecae9f1286cf31 | 2014-01-03                       |  2                               |  2                               | 1                                | \n",
       "| 3815b1ef8ca0874750ae7ecb56b53891 | 2014-01-07                       | 14                               |  1                               | 1                                | \n",
       "| b2b95ac1a2d5c95574650efd985ed31c | 2014-01-07                       | 15                               |  7                               | 1                                | \n",
       "| bed2510fc2f3b23f65e4b07d426fac4a | 2014-01-05                       |  5                               |  1                               | 1                                | \n",
       "| 5883edc0f766b8e8788a2813d71d491c | 2014-01-07                       |  7                               |  7                               | 1                                | \n",
       "| 1889352d41a6be6c1715793623719cd5 | 2014-01-04                       | 12                               | 12                               | 0                                | \n",
       "| 8e583d18b3f5c662e2d0441dbe39359a | 2014-01-05                       |  4                               |  1                               | 1                                | \n",
       "| d24d961e1c9aedf06dcb06261bb35e12 | 2014-01-01                       |  8                               | 33                               | 0                                | \n",
       "| d24d961e1c9aedf06dcb06261bb35e12 | 2014-01-05                       | 12                               | 12                               | 1                                | \n",
       "| e145cdeb49f9d5a448c7e005157eab67 | 2014-01-04                       |  3                               |  1                               | 1                                | \n",
       "| d56db0e968763255a440b075238008e4 | 2014-01-05                       | 12                               |  3                               | 0                                | \n",
       "| 0cc948608edc2d8b5c37bed486e94f22 | 2014-01-01                       |  8                               |  3                               | 0                                | \n",
       "| 0cc948608edc2d8b5c37bed486e94f22 | 2014-01-05                       | 12                               |  4                               | 0                                | \n",
       "| 389928c770311ceaa26e5de2436d5a57 | 2014-01-02                       |  2                               |  1                               | 1                                | \n",
       "| 59aebcabdb904fe53f84cf47441aee5e | 2014-01-05                       |  4                               |  5                               | 1                                | \n",
       "| 7ab9b7cffb3ae1e6625a45ed60c409e5 | 2014-01-05                       | 12                               |  3                               | 0                                | \n",
       "| d40febe8b0c0e9a98b90d66cfff97150 | 2014-01-07                       | 14                               |  4                               | 1                                | \n",
       "| ee51e02d0ccf314c29fc3479bb290b74 | 2014-01-03                       | 11                               |  2                               | 1                                | \n",
       "| bd7fc0c2cc8a22f63d7262bbaa68a50e | 2014-01-06                       |  5                               |  3                               | 0                                | \n",
       "| 0098ec5725cc2eba7ffb58ca0c77e914 | 2014-01-06                       |  5                               |  3                               | 1                                | \n",
       "| e3e95924b152d5d2b0fcf0cc2b8a4261 | 2014-01-07                       | 15                               |  1                               | 1                                | \n",
       "| 712d953e972844194475f21b9352c1ab | 2014-01-01                       |  8                               |  2                               | 0                                | \n",
       "| 7fad6b6c0d8c8a5ef69f467511b5262c | 2014-01-01                       |  9                               | 10                               | 1                                | \n",
       "| 323676bf93f40dda0a96cba8c73c1478 | 2014-01-06                       | 14                               |  1                               | 1                                | \n",
       "| cda5e442e086f0b9f8d19b18177e4099 | 2014-01-01                       |  1                               |  1                               | 1                                | \n",
       "\n",
       "\n"
      ],
      "text/plain": [
       "      player_id                        dt         level num_attempts\n",
       "1     6dd5af4c7228fa353d505767143f5815 2014-01-04  4     3          \n",
       "2     c7ec97c39349ab7e4d39b4f74062ec13 2014-01-01  8     4          \n",
       "3     c7ec97c39349ab7e4d39b4f74062ec13 2014-01-05 12     6          \n",
       "4     a32c5e9700ed356dc8dd5bb3230c5227 2014-01-03 11     1          \n",
       "5     a32c5e9700ed356dc8dd5bb3230c5227 2014-01-07 15     6          \n",
       "6     b94d403ac4edf639442f93eeffdc7d92 2014-01-01  8     8          \n",
       "7     b94d403ac4edf639442f93eeffdc7d92 2014-01-05 12    15          \n",
       "8     ff508e34a5d0157ea5e42f2ff9982660 2014-01-04 12    18          \n",
       "9     83ee6c90911dcde3cac189f690310920 2014-01-04  4     1          \n",
       "10    bef3afe9467a0a4b496a8b72a0840829 2014-01-07 15    27          \n",
       "11    bab865e734918e4d680b1be518b9c148 2014-01-07 15    15          \n",
       "12    4194741637f27d22b78106cf484a7641 2014-01-01  8     8          \n",
       "13    701a1c2abd63b53e24782ef52e59e9e4 2014-01-07 15     3          \n",
       "14    cdac1665b7a725f6850682a652e4af34 2014-01-07 15    17          \n",
       "15    244ee3e1d8274ab03378223eb4831aa6 2014-01-07 15     5          \n",
       "16    12c0cf02c3a48095b420583fb203ba94 2014-01-07 15     1          \n",
       "17    8d7731a49b66b4c2b76103628f9af49b 2014-01-07 15     5          \n",
       "18    0822ff21d064d90558fa6e9872eb77d5 2014-01-02  9    15          \n",
       "19    a2eb28780561c3e4414efe886fc75888 2014-01-01  8     1          \n",
       "20    ee7b7171ee4801f52b708ea090bf792b 2014-01-02  9     2          \n",
       "21    5ddf44f41974acf2c8cd9bbcdb10bc40 2014-01-02 10     5          \n",
       "22    0b3155819caf2a961f093080ad35b1c7 2014-01-05 12     8          \n",
       "23    abd0f49d4c78c41a5e66dad7f6ceffd2 2014-01-04  4     1          \n",
       "24    e60ef6f316a4e2ac1d5d80957aa2e65e 2014-01-04 11     1          \n",
       "25    fff357d9e487d745b3cdcd8842c55f12 2014-01-07 15     5          \n",
       "26    211a8e2e49f2c639f989e271dc503af1 2014-01-07 15    13          \n",
       "27    793f01d46cf8e0a9c25ac195b58b6ab9 2014-01-03 10     4          \n",
       "28    1970080561955b17cac235ba902cde37 2014-01-03 10     2          \n",
       "29    1970080561955b17cac235ba902cde37 2014-01-07 14     7          \n",
       "30    7b59437037dd768bcc5c4e6f64464c61 2014-01-05  5     4          \n",
       "...   ...                              ...        ...   ...         \n",
       "16836 8ec95f673d4422a83a09d08c4bdc8cd3 2014-01-05 13     4          \n",
       "16837 93bb7d98554b61dc14d57babd73f05c9 2014-01-02  1     1          \n",
       "16838 6de37d7b40c9b3863ed3be001946b500 2014-01-04  4     1          \n",
       "16839 29abffe0da911d11382bc4319e1a27d1 2014-01-04 12     9          \n",
       "16840 c92f049d9876b18e589258877cb5a160 2014-01-03 10     2          \n",
       "16841 e441daa8c280af6ce3ecae9f1286cf31 2014-01-03  2     2          \n",
       "16842 3815b1ef8ca0874750ae7ecb56b53891 2014-01-07 14     1          \n",
       "16843 b2b95ac1a2d5c95574650efd985ed31c 2014-01-07 15     7          \n",
       "16844 bed2510fc2f3b23f65e4b07d426fac4a 2014-01-05  5     1          \n",
       "16845 5883edc0f766b8e8788a2813d71d491c 2014-01-07  7     7          \n",
       "16846 1889352d41a6be6c1715793623719cd5 2014-01-04 12    12          \n",
       "16847 8e583d18b3f5c662e2d0441dbe39359a 2014-01-05  4     1          \n",
       "16848 d24d961e1c9aedf06dcb06261bb35e12 2014-01-01  8    33          \n",
       "16849 d24d961e1c9aedf06dcb06261bb35e12 2014-01-05 12    12          \n",
       "16850 e145cdeb49f9d5a448c7e005157eab67 2014-01-04  3     1          \n",
       "16851 d56db0e968763255a440b075238008e4 2014-01-05 12     3          \n",
       "16852 0cc948608edc2d8b5c37bed486e94f22 2014-01-01  8     3          \n",
       "16853 0cc948608edc2d8b5c37bed486e94f22 2014-01-05 12     4          \n",
       "16854 389928c770311ceaa26e5de2436d5a57 2014-01-02  2     1          \n",
       "16855 59aebcabdb904fe53f84cf47441aee5e 2014-01-05  4     5          \n",
       "16856 7ab9b7cffb3ae1e6625a45ed60c409e5 2014-01-05 12     3          \n",
       "16857 d40febe8b0c0e9a98b90d66cfff97150 2014-01-07 14     4          \n",
       "16858 ee51e02d0ccf314c29fc3479bb290b74 2014-01-03 11     2          \n",
       "16859 bd7fc0c2cc8a22f63d7262bbaa68a50e 2014-01-06  5     3          \n",
       "16860 0098ec5725cc2eba7ffb58ca0c77e914 2014-01-06  5     3          \n",
       "16861 e3e95924b152d5d2b0fcf0cc2b8a4261 2014-01-07 15     1          \n",
       "16862 712d953e972844194475f21b9352c1ab 2014-01-01  8     2          \n",
       "16863 7fad6b6c0d8c8a5ef69f467511b5262c 2014-01-01  9    10          \n",
       "16864 323676bf93f40dda0a96cba8c73c1478 2014-01-06 14     1          \n",
       "16865 cda5e442e086f0b9f8d19b18177e4099 2014-01-01  1     1          \n",
       "      num_success\n",
       "1     1          \n",
       "2     1          \n",
       "3     0          \n",
       "4     1          \n",
       "5     0          \n",
       "6     1          \n",
       "7     1          \n",
       "8     0          \n",
       "9     1          \n",
       "10    0          \n",
       "11    0          \n",
       "12    0          \n",
       "13    0          \n",
       "14    0          \n",
       "15    0          \n",
       "16    0          \n",
       "17    0          \n",
       "18    0          \n",
       "19    1          \n",
       "20    1          \n",
       "21    1          \n",
       "22    0          \n",
       "23    1          \n",
       "24    1          \n",
       "25    0          \n",
       "26    0          \n",
       "27    1          \n",
       "28    1          \n",
       "29    1          \n",
       "30    1          \n",
       "...   ...        \n",
       "16836 1          \n",
       "16837 1          \n",
       "16838 1          \n",
       "16839 1          \n",
       "16840 0          \n",
       "16841 1          \n",
       "16842 1          \n",
       "16843 1          \n",
       "16844 1          \n",
       "16845 1          \n",
       "16846 0          \n",
       "16847 1          \n",
       "16848 0          \n",
       "16849 1          \n",
       "16850 1          \n",
       "16851 0          \n",
       "16852 0          \n",
       "16853 0          \n",
       "16854 1          \n",
       "16855 1          \n",
       "16856 0          \n",
       "16857 1          \n",
       "16858 1          \n",
       "16859 0          \n",
       "16860 1          \n",
       "16861 1          \n",
       "16862 0          \n",
       "16863 1          \n",
       "16864 1          \n",
       "16865 1          "
      ]
     },
     "metadata": {},
     "output_type": "display_data"
    },
    {
     "name": "stdout",
     "output_type": "stream",
     "text": [
      "[1] \"Period for which we have data:\"\n"
     ]
    },
    {
     "data": {
      "text/html": [
       "5"
      ],
      "text/latex": [
       "5"
      ],
      "text/markdown": [
       "5"
      ],
      "text/plain": [
       "[1] 5"
      ]
     },
     "metadata": {},
     "output_type": "display_data"
    }
   ],
   "source": [
    "print(\"Number of players:\")\n",
    "unique(data)\n",
    "\n",
    "print(\"Period for which we have data:\")\n",
    "length(unique(data))"
   ]
  },
  {
   "cell_type": "markdown",
   "metadata": {
    "dc": {
     "key": "24"
    },
    "deletable": false,
    "editable": false,
    "run_control": {
     "frozen": true
    },
    "tags": [
     "context"
    ]
   },
   "source": [
    "## 4. Computing level difficulty\n",
    "<p>Within each Candy Crush episode, there is a mix of easier and tougher levels. Luck and individual skill make the number of attempts required to pass a level different from player to player. The assumption is that difficult levels require more attempts on average than easier ones. That is, <em>the harder</em> a level is, <em>the lower</em> the probability to pass that level in a single attempt is.</p>\n",
    "<p>A simple approach to model this probability is as a <a href=\"https://en.wikipedia.org/wiki/Bernoulli_process\">Bernoulli process</a>; as a binary outcome (you either win or lose) characterized by a single parameter <em>p<sub>win</sub></em>: the probability of winning the level in a single attempt. This probability can be estimated for each level as:</p>\n",
    "<p><img src=\"https://assets.datacamp.com/production/project_139/img/latex1.png\" style=\"width:150px\"></p>\n",
    "<!-- $$p_{win} = \\frac{\\sum wins}{\\sum attempts}$$ -->\n",
    "<p>For example, let's say a level has been played 10 times and 2 of those attempts ended up in a victory. Then the probability of winning in a single attempt would be <em>p<sub>win</sub></em> = 2 / 10 = 20%.</p>\n",
    "<p>Now, let's compute the difficulty <em>p<sub>win</sub></em> separately for each of the 15 levels.</p>"
   ]
  },
  {
   "cell_type": "code",
   "execution_count": 5,
   "metadata": {
    "dc": {
     "key": "24"
    },
    "tags": [
     "sample_code"
    ]
   },
   "outputs": [
    {
     "data": {
      "text/html": [
       "<table>\n",
       "<thead><tr><th scope=col>level</th><th scope=col>attempts</th><th scope=col>total_wins</th><th scope=col>p_win</th></tr></thead>\n",
       "<tbody>\n",
       "\t<tr><td>1         </td><td>1322      </td><td>818       </td><td>0.61875946</td></tr>\n",
       "\t<tr><td>2         </td><td>1285      </td><td>666       </td><td>0.51828794</td></tr>\n",
       "\t<tr><td>3         </td><td>1546      </td><td>662       </td><td>0.42820181</td></tr>\n",
       "\t<tr><td>4         </td><td>1893      </td><td>705       </td><td>0.37242472</td></tr>\n",
       "\t<tr><td>5         </td><td>6937      </td><td>634       </td><td>0.09139397</td></tr>\n",
       "\t<tr><td>6         </td><td>1591      </td><td>668       </td><td>0.41986172</td></tr>\n",
       "</tbody>\n",
       "</table>\n"
      ],
      "text/latex": [
       "\\begin{tabular}{r|llll}\n",
       " level & attempts & total\\_wins & p\\_win\\\\\n",
       "\\hline\n",
       "\t 1          & 1322       & 818        & 0.61875946\\\\\n",
       "\t 2          & 1285       & 666        & 0.51828794\\\\\n",
       "\t 3          & 1546       & 662        & 0.42820181\\\\\n",
       "\t 4          & 1893       & 705        & 0.37242472\\\\\n",
       "\t 5          & 6937       & 634        & 0.09139397\\\\\n",
       "\t 6          & 1591       & 668        & 0.41986172\\\\\n",
       "\\end{tabular}\n"
      ],
      "text/markdown": [
       "\n",
       "level | attempts | total_wins | p_win | \n",
       "|---|---|---|---|---|---|\n",
       "| 1          | 1322       | 818        | 0.61875946 | \n",
       "| 2          | 1285       | 666        | 0.51828794 | \n",
       "| 3          | 1546       | 662        | 0.42820181 | \n",
       "| 4          | 1893       | 705        | 0.37242472 | \n",
       "| 5          | 6937       | 634        | 0.09139397 | \n",
       "| 6          | 1591       | 668        | 0.41986172 | \n",
       "\n",
       "\n"
      ],
      "text/plain": [
       "  level attempts total_wins p_win     \n",
       "1 1     1322     818        0.61875946\n",
       "2 2     1285     666        0.51828794\n",
       "3 3     1546     662        0.42820181\n",
       "4 4     1893     705        0.37242472\n",
       "5 5     6937     634        0.09139397\n",
       "6 6     1591     668        0.41986172"
      ]
     },
     "metadata": {},
     "output_type": "display_data"
    }
   ],
   "source": [
    "# Calculating level difficulty\n",
    "difficulty <- data %>% group_by(level) %>%\n",
    "    summarise(attempts=sum(num_attempts),total_wins=sum(num_success)) %>%\n",
    "    mutate(p_win=total_wins/attempts)\n",
    "\n",
    "# Printing out the level difficulty\n",
    "head(difficulty)"
   ]
  },
  {
   "cell_type": "markdown",
   "metadata": {
    "dc": {
     "key": "31"
    },
    "deletable": false,
    "editable": false,
    "run_control": {
     "frozen": true
    },
    "tags": [
     "context"
    ]
   },
   "source": [
    "## 5. Plotting difficulty profile\n",
    "<p><img src=\"https://assets.datacamp.com/production/project_139/img/tiffi.jpeg\" style=\"height:150px; float:left\"> </p>\n",
    "<p>Great! We now have the difficulty for all the 15 levels in the episode. Keep in mind that, as we measure difficulty as the probability to pass a level in a single attempt, a <em>lower</em> value (a smaller probability of winning the level) implies a <em>higher</em> level difficulty.</p>\n",
    "<p>Now that we have the difficulty of the episode we should plot it. Let's plot a line graph with the levels on the X-axis and the difficulty (<em>p<sub>win</sub></em>) on the Y-axis. We call this plot the <em>difficulty profile</em> of the episode.</p>"
   ]
  },
  {
   "cell_type": "code",
   "execution_count": 6,
   "metadata": {
    "dc": {
     "key": "31"
    },
    "tags": [
     "sample_code"
    ]
   },
   "outputs": [
    {
     "data": {},
     "metadata": {},
     "output_type": "display_data"
    },
    {
     "data": {
      "image/png": "[encoded data removed]",
      "text/plain": [
       "plot without title"
      ]
     },
     "metadata": {},
     "output_type": "display_data"
    }
   ],
   "source": [
    "# Plotting the level difficulty profile\n",
    "difficulty %>% ggplot(aes(x=level,y=p_win))+geom_line()+scale_x_continuous(breaks=1:15)+\n",
    "    scale_y_continuous(label=scales::percent)"
   ]
  },
  {
   "cell_type": "markdown",
   "metadata": {
    "dc": {
     "key": "38"
    },
    "deletable": false,
    "editable": false,
    "run_control": {
     "frozen": true
    },
    "tags": [
     "context"
    ]
   },
   "source": [
    "## 6. Spotting hard levels\n",
    "<p>What constitutes a <em>hard</em> level is subjective. However, to keep things simple, we could define a threshold of difficulty, say 10%, and label levels with <em>p<sub>win</sub></em> &lt; 10% as <em>hard</em>. It's relatively easy to spot these hard levels on the plot, but we can make the plot more friendly by explicitly highlighting the hard levels.</p>"
   ]
  },
  {
   "cell_type": "code",
   "execution_count": 7,
   "metadata": {
    "dc": {
     "key": "38"
    },
    "tags": [
     "sample_code"
    ]
   },
   "outputs": [
    {
     "data": {},
     "metadata": {},
     "output_type": "display_data"
    },
    {
     "data": {
      "image/png": "[encoded data removed]",
      "text/plain": [
       "plot without title"
      ]
     },
     "metadata": {},
     "output_type": "display_data"
    }
   ],
   "source": [
    "# Adding points and a dashed line\n",
    "difficulty %>% ggplot(aes(x=level,y=p_win))+geom_line()+scale_x_continuous(breaks=1:15)+\n",
    "    scale_y_continuous(label=scales::percent)+geom_point()+geom_hline(yintercept=0.1,linetype=\"dashed\")"
   ]
  },
  {
   "cell_type": "markdown",
   "metadata": {
    "dc": {
     "key": "45"
    },
    "deletable": false,
    "editable": false,
    "run_control": {
     "frozen": true
    },
    "tags": [
     "context"
    ]
   },
   "source": [
    "## 7. Computing uncertainty\n",
    "<p><img src=\"https://assets.datacamp.com/production/project_139/img/mr_toffee.jpeg\" style=\"height:350px; float:right\"> </p>\n",
    "<p>As Data Scientists we should always report some measure of the uncertainty of any provided numbers. Maybe tomorrow, another sample will give us slightly different values for the difficulties? Here we will simply use the <a href=\"https://en.wikipedia.org/wiki/Standard_error\"><em>Standard error</em></a> as a measure of uncertainty:</p>\n",
    "<p><img src=\"https://assets.datacamp.com/production/project_139/img/latex2.png\" style=\"width:115px\"></p>\n",
    "<!-- $$\n",
    "\\sigma_{error} \\approx \\frac{\\sigma_{sample}}{\\sqrt{n}}\n",
    "$$ -->\n",
    "<p>Here <em>n</em> is the number of datapoints and <em>σ<sub>sample</sub></em> is the sample standard deviation. For a Bernoulli process, the sample standard deviation is: </p>\n",
    "<p><img src=\"https://assets.datacamp.com/production/project_139/img/latex3.png\" style=\"width:195px\"></p>\n",
    "<!-- $$\n",
    "\\sigma_{sample} = \\sqrt{p_{win} (1 - p_{win})} \n",
    "$$ -->\n",
    "<p>Therefore, we can calculate the standard error like this:</p>\n",
    "<p><img src=\"https://assets.datacamp.com/production/project_139/img/latex4.png\" style=\"width:195px\"></p>\n",
    "<!-- $$\n",
    "\\sigma_{error} \\approx \\sqrt{\\frac{p_{win}(1 - p_{win})}{n}}\n",
    "$$ -->\n",
    "<p>We already have all we need in the <code>difficulty</code> data frame! Every level has been played <em>n</em> number of times and we have their difficulty <em>p<sub>win</sub></em>. Now, let's calculate the standard error for each level.</p>"
   ]
  },
  {
   "cell_type": "code",
   "execution_count": 8,
   "metadata": {
    "dc": {
     "key": "45"
    },
    "tags": [
     "sample_code"
    ]
   },
   "outputs": [],
   "source": [
    "# Computing the standard error of p_win for each level\n",
    "difficulty <- difficulty %>%\n",
    "    mutate(error = sqrt(p_win * (1 - p_win) / attempts))"
   ]
  },
  {
   "cell_type": "markdown",
   "metadata": {
    "dc": {
     "key": "52"
    },
    "deletable": false,
    "editable": false,
    "run_control": {
     "frozen": true
    },
    "tags": [
     "context"
    ]
   },
   "source": [
    "## 8. Showing uncertainty\n",
    "<p>Now that we have a measure of uncertainty for each levels' difficulty estimate let's use <em>error bars</em> to show this uncertainty in the plot. We will set the length of the error bars to one standard error. The upper limit and the lower limit of each error bar should then be <em>p<sub>win</sub></em> + <em>σ<sub>error</sub></em> and <em>p<sub>win</sub></em> - <em>σ<sub>error</sub></em>, respectively.</p>"
   ]
  },
  {
   "cell_type": "code",
   "execution_count": 9,
   "metadata": {
    "dc": {
     "key": "52"
    },
    "tags": [
     "sample_code"
    ]
   },
   "outputs": [
    {
     "data": {},
     "metadata": {},
     "output_type": "display_data"
    },
    {
     "data": {
      "image/png": "[encoded data removed]",
      "text/plain": [
       "plot without title"
      ]
     },
     "metadata": {},
     "output_type": "display_data"
    }
   ],
   "source": [
    "# Adding standard error bars\n",
    "difficulty %>% ggplot(aes(x=level,y=p_win))+geom_line()+scale_x_continuous(breaks=1:15)+\n",
    "    scale_y_continuous(label=scales::percent)+geom_point()+geom_hline(yintercept=0.1,linetype=\"dashed\")+\n",
    "    geom_errorbar(mapping = aes(x = level, ymin = p_win - error, ymax = p_win + error))\n"
   ]
  },
  {
   "cell_type": "markdown",
   "metadata": {
    "dc": {
     "key": "59"
    },
    "deletable": false,
    "editable": false,
    "run_control": {
     "frozen": true
    },
    "tags": [
     "context"
    ]
   },
   "source": [
    "## 9. A final metric\n",
    "<p>It looks like our difficulty estimates are pretty precise! Using this plot, a level designer can quickly spot where the hard levels are and also see if there seems to be too many hard levels in the episode.</p>\n",
    "<p>One question a level designer might ask is: \"How likely is it that a player will complete the episode without losing a single time?\" Let's calculate this using the estimated level difficulties!</p>"
   ]
  },
  {
   "cell_type": "code",
   "execution_count": 10,
   "metadata": {
    "dc": {
     "key": "59"
    },
    "tags": [
     "sample_code"
    ]
   },
   "outputs": [
    {
     "data": {
      "text/html": [
       "9.44714093448606e-12"
      ],
      "text/latex": [
       "9.44714093448606e-12"
      ],
      "text/markdown": [
       "9.44714093448606e-12"
      ],
      "text/plain": [
       "[1] 9.447141e-12"
      ]
     },
     "metadata": {},
     "output_type": "display_data"
    }
   ],
   "source": [
    "# The probability of completing the episode without losing a single time\n",
    "p <- prod(difficulty$p_win)\n",
    "\n",
    "# Printing it out\n",
    "p"
   ]
  },
  {
   "cell_type": "markdown",
   "metadata": {
    "dc": {
     "key": "66"
    },
    "deletable": false,
    "editable": false,
    "run_control": {
     "frozen": true
    },
    "tags": [
     "context"
    ]
   },
   "source": [
    "## 10. Should our level designer worry?\n",
    "<p>Given the probability we just calculated, should our level designer worry about that a lot of players might complete the episode in one attempt?</p>"
   ]
  },
  {
   "cell_type": "code",
   "execution_count": 11,
   "metadata": {
    "dc": {
     "key": "66"
    },
    "tags": [
     "sample_code"
    ]
   },
   "outputs": [],
   "source": [
    "# Should our level designer worry about that a lot of \n",
    "# players will complete the episode in one attempt?\n",
    "should_the_designer_worry = F"
   ]
  }
 ],
 "metadata": {
  "kernelspec": {
   "display_name": "R",
   "language": "R",
   "name": "ir"
  },
  "language_info": {
   "codemirror_mode": "r",
   "file_extension": ".r",
   "mimetype": "text/x-r-source",
   "name": "R",
   "pygments_lexer": "r",
   "version": "3.5.1"
  }
 },
 "nbformat": 4,
 "nbformat_minor": 2
}
